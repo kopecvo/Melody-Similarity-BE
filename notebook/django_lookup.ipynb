{
 "cells": [
  {
   "cell_type": "code",
   "execution_count": null,
   "metadata": {
    "collapsed": false
   },
   "outputs": [],
   "source": [
    "# Django notebook kernel must be running\n",
    "# python manage.py shell_plus --notebook"
   ]
  },
  {
   "cell_type": "code",
   "execution_count": null,
   "metadata": {
    "collapsed": false
   },
   "outputs": [],
   "source": [
    "import django_initialiser\n",
    "import time\n",
    "import math\n",
    "import numpy as np"
   ]
  },
  {
   "cell_type": "code",
   "execution_count": null,
   "metadata": {
    "collapsed": false
   },
   "outputs": [],
   "source": [
    "from api.models import Song\n",
    "from api.melody_utils.generator import generate_all_piano_midi_de"
   ]
  },
  {
   "cell_type": "code",
   "execution_count": null,
   "metadata": {
    "collapsed": false
   },
   "outputs": [],
   "source": [
    "# generate_all_piano_midi_de(\"../midi/piano_midi_de\")"
   ]
  },
  {
   "cell_type": "code",
   "execution_count": null,
   "metadata": {
    "collapsed": false
   },
   "outputs": [],
   "source": [
    "bach = Song.objects.filter(\n",
    "    author__contains='bach'\n",
    ")\n",
    "elise = Song.objects.filter(\n",
    "    title__contains='elise'\n",
    ")\n",
    "# print(bach[0].note_sequence)\n",
    "print(list(map(int, elise[0].note_sequence.split(','))))"
   ]
  },
  {
   "cell_type": "code",
   "execution_count": null,
   "metadata": {
    "collapsed": false
   },
   "outputs": [],
   "source": [
    "# Melodies expected as lists\n",
    "def longest_substring(song, query):\n",
    "    # find the length of the strings\n",
    "    m = len(song)\n",
    "    n = len(query)\n",
    "\n",
    "    # declaring the array for storing the dp values\n",
    "    a = np.zeros(shape=[m + 1, n + 1], dtype='int')\n",
    "\n",
    "    longest = 0\n",
    "\n",
    "    # LCS DP\n",
    "    for i in range(m + 1):\n",
    "        for j in range(n + 1):\n",
    "            if i == 0 or j == 0:\n",
    "                a[i][j] = 0\n",
    "\n",
    "            elif song[i-1] == query[j-1]:\n",
    "                a[i][j] = a[i-1][j-1] + 1\n",
    "                longest = max(longest, a[i][j])\n",
    "\n",
    "            else:\n",
    "                a[i][j] = 0\n",
    "\n",
    "    return longest"
   ]
  },
  {
   "cell_type": "code",
   "execution_count": null,
   "metadata": {},
   "outputs": [],
   "source": [
    "def longest_common_subsequence(segment, query):\n",
    "    # find the length of the strings\n",
    "    m = len(segment)\n",
    "    n = len(query)\n",
    "\n",
    "    # declaring the array for storing the dp values\n",
    "    a = np.zeros(shape=[m + 1, n + 1], dtype='int')\n",
    "\n",
    "    longest = 0\n",
    "\n",
    "    # LCS DP\n",
    "    for i in range(m + 1):\n",
    "        for j in range(n + 1):\n",
    "            if i == 0 or j == 0:\n",
    "                a[i][j] = 0\n",
    "\n",
    "            elif segment[i-1] == query[j-1]:\n",
    "                a[i][j] = a[i-1][j-1] + 1\n",
    "\n",
    "            else:\n",
    "                a[i][j] = max(a[i-1][j], a[i][j-1])\n",
    "\n",
    "    return a[m][n]"
   ]
  },
  {
   "cell_type": "code",
   "execution_count": null,
   "metadata": {},
   "outputs": [],
   "source": [
    "# Break songs into segments of same length as query\n",
    "def segmented_lookup(query):\n",
    "    t = time.process_time()\n",
    "    # Retrieve all songs from db\n",
    "    songs = Song.objects.all()\n",
    "\n",
    "    results = []\n",
    "    query_len = len(query)\n",
    "\n",
    "    for song in songs:\n",
    "        song_notes = list(map(int, song.note_sequence.split(',')))\n",
    "        \n",
    "        song_len = len(song_notes)\n",
    "        max_res = 0\n",
    "        max_first_index = 0\n",
    "        max_last_index = 0\n",
    "\n",
    "        # Get segments\n",
    "        for i in range(math.ceil(song_len / query_len)):\n",
    "            first_note_index = i * query_len\n",
    "            last_note_index = (i + 1) * query_len - 1\n",
    "\n",
    "            # Last note index can be out of range but array slicing is safe against that\n",
    "            res = longest_common_subsequence(song_notes[first_note_index:last_note_index], query)\n",
    "            if res > max_res:\n",
    "                max_res = res\n",
    "                max_first_index = first_note_index\n",
    "                max_last_index = last_note_index\n",
    "\n",
    "        results.append((max_res, song, [max_first_index, max_last_index]))\n",
    "\n",
    "    # Sort in descending order by the longest subsequence length\n",
    "    results.sort(key=lambda tup: tup[0], reverse=True)\n",
    "    t = time.process_time() - t\n",
    "    print(f'Done in {t} seconds')\n",
    "    return results\n"
   ]
  },
  {
   "cell_type": "code",
   "execution_count": null,
   "metadata": {
    "collapsed": false
   },
   "outputs": [],
   "source": [
    "# Old lookup function, compares query with entire song\n",
    "def lookup(query):\n",
    "    t = time.process_time()\n",
    "    # Retrieve all songs from db\n",
    "    songs = Song.objects.all()\n",
    "\n",
    "    results = []\n",
    "\n",
    "    for song in songs:\n",
    "        song_notes = list(map(int, song.note_sequence.split(',')))\n",
    "        res = longest_substring(song_notes, query)\n",
    "        results.append((res, song))\n",
    "\n",
    "    # Sort in descending order by the longest subsequence length\n",
    "    results.sort(key=lambda tup: tup[0], reverse=True)\n",
    "    t = time.process_time() - t\n",
    "    print(f'Done in {t} seconds')\n",
    "    return results"
   ]
  },
  {
   "cell_type": "code",
   "execution_count": null,
   "metadata": {
    "collapsed": false
   },
   "outputs": [],
   "source": [
    "input_search = [76, 75, 76, 75, 76, 71, 74, 72, 69, 57]\n",
    "elise_notes = list(map(int, elise[0].note_sequence.split(',')))"
   ]
  },
  {
   "cell_type": "code",
   "execution_count": null,
   "metadata": {
    "collapsed": false
   },
   "outputs": [],
   "source": [
    "res = segmented_lookup(input_search)\n",
    "for i in range(0, 3):\n",
    "    print(res[i][0], res[i][1].title, f'at [{res[i][2][0]}, {res[i][2][1]}]')"
   ]
  },
  {
   "cell_type": "code",
   "execution_count": null,
   "metadata": {},
   "outputs": [],
   "source": [
    "import threading\n",
    "import queue\n",
    "\n",
    "class QueueSearchTest:\n",
    "    def __init__(self, query):\n",
    "        self.query = query\n",
    "        self.songs = Song.objects.all()\n",
    "        self.results = []\n",
    "        self.query_len = len(query)\n",
    "        self.q = queue.Queue()\n",
    "        self.threads = 6\n",
    "\n",
    "    def worker(self):\n",
    "        while True:\n",
    "            song = self.q.get()\n",
    "\n",
    "            song_notes = list(map(int, song.note_sequence.split(',')))\n",
    "        \n",
    "            song_len = len(song_notes)\n",
    "            max_res = 0\n",
    "\n",
    "            # Get segments\n",
    "            for i in range(song_len - self.query_len + 1):\n",
    "                first_note_index = i\n",
    "                last_note_index = i + self.query_len - 1\n",
    "\n",
    "                res = longest_common_subsequence(song_notes[first_note_index:last_note_index], self.query)\n",
    "                max_res = max(max_res, res)\n",
    "\n",
    "            self.results.append((max_res, song))\n",
    "\n",
    "            self.q.task_done()\n",
    "\n",
    "    def segmented_lookup(self):\n",
    "        t = time.process_time()\n",
    "        # Turn-on the worker threads.\n",
    "        for i in range(self.threads):\n",
    "            threading.Thread(target=self.worker, daemon=True).start()\n",
    "\n",
    "        # Send all songs to the worker.\n",
    "        for song in self.songs:\n",
    "            self.q.put(song)\n",
    "\n",
    "        # Block until all tasks are done.\n",
    "        self.q.join()\n",
    "\n",
    "        self.results.sort(key=lambda tup: tup[0], reverse=True)\n",
    "        t = time.process_time() - t\n",
    "        print(f'Done in {t} seconds')\n",
    "        return self.results"
   ]
  },
  {
   "cell_type": "code",
   "execution_count": null,
   "metadata": {},
   "outputs": [],
   "source": [
    "q = QueueSearchTest(input_search)\n",
    "res = q.segmented_lookup()\n",
    "for i in range(0, 3):\n",
    "    print(res[i][0], res[i][1].title)"
   ]
  }
 ],
 "metadata": {
  "kernelspec": {
   "display_name": "Django Shell-Plus",
   "language": "python",
   "name": "django_extensions"
  },
  "language_info": {
   "codemirror_mode": {
    "name": "ipython",
    "version": 3
   },
   "file_extension": ".py",
   "mimetype": "text/x-python",
   "name": "python",
   "nbconvert_exporter": "python",
   "pygments_lexer": "ipython3",
   "version": "3.11.0"
  },
  "vscode": {
   "interpreter": {
    "hash": "7b7510469ae1ec5dd10f75fdd90389bb198a340a73d28dade5600db03c07fab4"
   }
  }
 },
 "nbformat": 4,
 "nbformat_minor": 0
}
