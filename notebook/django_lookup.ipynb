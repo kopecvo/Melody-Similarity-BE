{
 "cells": [
  {
   "cell_type": "code",
   "execution_count": null,
   "metadata": {
    "collapsed": false
   },
   "outputs": [],
   "source": [
    "# Django notebook kernel must be running\n",
    "# python manage.py shell_plus --notebook"
   ]
  },
  {
   "cell_type": "code",
   "execution_count": null,
   "metadata": {
    "collapsed": false
   },
   "outputs": [],
   "source": [
    "import django_initialiser\n",
    "import time\n",
    "import numpy as np"
   ]
  },
  {
   "cell_type": "code",
   "execution_count": null,
   "metadata": {
    "collapsed": false
   },
   "outputs": [],
   "source": [
    "from api.models import Song\n",
    "from api.melody_utils.generator import generate_all_piano_midi_de"
   ]
  },
  {
   "cell_type": "code",
   "execution_count": null,
   "metadata": {
    "collapsed": false
   },
   "outputs": [],
   "source": [
    "# generate_all_piano_midi_de(\"../midi/piano_midi_de\")"
   ]
  },
  {
   "cell_type": "code",
   "execution_count": null,
   "metadata": {
    "collapsed": false
   },
   "outputs": [],
   "source": [
    "bach = Song.objects.filter(\n",
    "    author__contains='bach'\n",
    ")\n",
    "elise = Song.objects.filter(\n",
    "    title__contains='elise'\n",
    ")\n",
    "# print(bach[0].note_sequence)\n",
    "print(list(map(int, elise[0].note_sequence.split(','))))"
   ]
  },
  {
   "cell_type": "code",
   "execution_count": null,
   "metadata": {
    "collapsed": false
   },
   "outputs": [],
   "source": [
    "# Melodies expected as lists\n",
    "def longest_substring(song, query):\n",
    "    # find the length of the strings\n",
    "    m = len(song)\n",
    "    n = len(query)\n",
    "\n",
    "    # declaring the array for storing the dp values\n",
    "    a = np.zeros(shape=[m + 1, n + 1], dtype='int')\n",
    "\n",
    "    longest = 0\n",
    "\n",
    "    # LCS DP\n",
    "    for i in range(m + 1):\n",
    "        for j in range(n + 1):\n",
    "            if i == 0 or j == 0:\n",
    "                a[i][j] = 0\n",
    "\n",
    "            elif song[i - 1] == query[j - 1]:\n",
    "                a[i][j] = a[i - 1][j - 1] + 1\n",
    "                longest = max(longest, a[i][j])\n",
    "\n",
    "            else:\n",
    "                a[i][j] = 0\n",
    "\n",
    "    return longest"
   ]
  },
  {
   "cell_type": "code",
   "execution_count": null,
   "metadata": {
    "collapsed": false
   },
   "outputs": [],
   "source": [
    "def lookup(query):\n",
    "    t = time.process_time()\n",
    "    # Retrieve all songs from db\n",
    "    songs = Song.objects.all()\n",
    "\n",
    "    results = []\n",
    "\n",
    "    for song in songs:\n",
    "        song_notes = list(map(int, song.note_sequence.split(',')))\n",
    "        res = longest_substring(song_notes, query)\n",
    "        results.append((res, song))\n",
    "\n",
    "    # Sort in descending order by the longest subsequence length\n",
    "    results.sort(key=lambda tup: tup[0], reverse=True)\n",
    "    t = time.process_time() - t\n",
    "    print(f'Done in {t} seconds')\n",
    "    return results"
   ]
  },
  {
   "cell_type": "code",
   "execution_count": null,
   "metadata": {
    "collapsed": false
   },
   "outputs": [],
   "source": [
    "input_search = [76, 75, 76, 75, 76, 71, 74, 72, 69, 57]\n",
    "elise_notes = list(map(int, elise[0].note_sequence.split(',')))\n",
    "print(longest_substring(elise_notes, input_search))"
   ]
  },
  {
   "cell_type": "code",
   "execution_count": null,
   "metadata": {
    "collapsed": false
   },
   "outputs": [],
   "source": [
    "res = lookup(input_search)\n",
    "for i in range(0, 3):\n",
    "    print(res[i][0], res[i][1].title)"
   ]
  },
  {
   "cell_type": "code",
   "execution_count": null,
   "metadata": {
    "collapsed": false
   },
   "outputs": [],
   "source": []
  }
 ],
 "metadata": {
  "kernelspec": {
   "display_name": "Django Shell-Plus",
   "language": "python",
   "name": "django_extensions"
  },
  "language_info": {
   "codemirror_mode": {
    "name": "ipython",
    "version": 2
   },
   "file_extension": ".py",
   "mimetype": "text/x-python",
   "name": "python",
   "nbconvert_exporter": "python",
   "pygments_lexer": "ipython2",
   "version": "3.11.0"
  },
  "vscode": {
   "interpreter": {
    "hash": "7b7510469ae1ec5dd10f75fdd90389bb198a340a73d28dade5600db03c07fab4"
   }
  }
 },
 "nbformat": 4,
 "nbformat_minor": 0
}
