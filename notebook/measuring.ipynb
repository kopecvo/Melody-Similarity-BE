{
 "cells": [
  {
   "cell_type": "code",
   "execution_count": null,
   "metadata": {
    "collapsed": true
   },
   "outputs": [],
   "source": [
    "import django_initialiser\n",
    "from api.melody_utils.search import search_lcs, search_dtw\n",
    "from api.melody_utils.extractor import melody_str_to_arr\n",
    "import pandas as pd\n",
    "import matplotlib.pyplot as plt\n",
    "from api.models import Song"
   ]
  },
  {
   "cell_type": "code",
   "execution_count": null,
   "metadata": {
    "collapsed": false
   },
   "outputs": [],
   "source": [
    "input_search = [76, 75, 76, 75, 76, 71, 74, 72, 69, 57, 76, 75, 76, 75, 76, 71, 74, 72, 69, 57, 76, 75, 76, 75, 76, 71, 74, 72, 69, 57, 76, 75, 76, 75, 76, 71, 74, 72, 69, 57]\n",
    "lune = Song.objects.filter(\n",
    "    title__contains='lune'\n",
    ")\n",
    "lune_notes = melody_str_to_arr(lune[0].note_sequence)\n",
    "print(lune_notes)"
   ]
  },
  {
   "cell_type": "code",
   "execution_count": null,
   "metadata": {
    "collapsed": false
   },
   "outputs": [],
   "source": [
    "def measure_varying_query():\n",
    "    \"\"\"Measure relation between query length and search time of all algorithms.\"\"\"\n",
    "    try:\n",
    "        f = open('./results.csv', 'a')\n",
    "        for i in range (3, 41):\n",
    "            cur_search = input_search[:i]\n",
    "            lcs = search_lcs(cur_search, return_time=True)\n",
    "            fast_dtw = search_dtw(cur_search, 0, generate_graphs=False, fast=True, return_time=True)\n",
    "            dtw = search_dtw(cur_search, 0, generate_graphs=False, fast=False, return_time=True)\n",
    "            f.write(f'{i},{lcs},{fast_dtw},{dtw}\\n')\n",
    "            print(f'Len {i} done')\n",
    "        f.close()\n",
    "\n",
    "    except KeyboardInterrupt:\n",
    "        f.close()\n",
    "        pass"
   ]
  },
  {
   "cell_type": "code",
   "execution_count": null,
   "metadata": {},
   "outputs": [],
   "source": [
    "def measure_similar_():\n",
    "    \"\"\"Measure relation between query length and LCS length\"\"\"\n",
    "    try:\n",
    "        f = open('./results_lcs.csv', 'a')\n",
    "        f.write(f'i,lcs_%\\n')\n",
    "        for i in range (3, 41):\n",
    "            cur_search = lune_notes[:i]\n",
    "            lcs_results = search_lcs(cur_search)\n",
    "            lcs_length = 0\n",
    "            for res in lcs_results:\n",
    "                lcs_length += res['lcs_length']\n",
    "            \n",
    "            lcs_avg = lcs_length / len(lcs_results)\n",
    "            lcs_percentage = lcs_avg / i\n",
    "\n",
    "            f.write(f'{i},{lcs_percentage}\\n')\n",
    "        f.close()\n",
    "\n",
    "    except KeyboardInterrupt:\n",
    "        f.close()\n",
    "        pass"
   ]
  },
  {
   "cell_type": "code",
   "execution_count": null,
   "metadata": {
    "collapsed": false
   },
   "outputs": [],
   "source": [
    "df = pd.read_csv('results.csv')\n",
    "print(df)\n",
    "# plt.plot(pd['lcs_time'])\n",
    "plt.plot(df['input_len'], df['lcs_time'], label='LCS')\n",
    "plt.plot(df['input_len'], df['fast_dtw_time'], label='fastDTW')\n",
    "plt.plot(df['input_len'], df['dtw_time'], label='DTW')\n",
    "plt.ylabel(\"Search time (s)\")\n",
    "plt.xlabel(\"Query melody length\")\n",
    "plt.legend()\n",
    "plt.savefig('./query_len.png')\n",
    "plt.show()"
   ]
  },
  {
   "cell_type": "code",
   "execution_count": null,
   "metadata": {
    "collapsed": false
   },
   "outputs": [],
   "source": [
    "constant = 0\n",
    "\n",
    "for i in range(0, 38):\n",
    "    constant += df['dtw_time'][i] / df['lcs_time'][i]\n",
    "\n",
    "constant = constant / len(df['lcs_time'])\n",
    "print(constant)"
   ]
  },
  {
   "cell_type": "code",
   "execution_count": null,
   "metadata": {
    "collapsed": false
   },
   "outputs": [],
   "source": [
    "# res2 = measure_similar_()\n",
    "\n",
    "df = pd.read_csv('results_lcs.csv')\n",
    "print(df)\n",
    "# plt.plot(pd['lcs_time'])\n",
    "plt.plot(df['i'], df['lcs_%'], label='LCS')\n",
    "plt.ylabel(\"Average LCS match rate\")\n",
    "plt.xlabel(\"Query melody length\")\n",
    "# plt.legend()\n",
    "# plt.savefig('./query_len.png')\n",
    "plt.show()"
   ]
  }
 ],
 "metadata": {
  "kernelspec": {
   "display_name": "Django Shell-Plus",
   "language": "python",
   "name": "django_extensions"
  },
  "language_info": {
   "codemirror_mode": {
    "name": "ipython",
    "version": 3
   },
   "file_extension": ".py",
   "mimetype": "text/x-python",
   "name": "python",
   "nbconvert_exporter": "python",
   "pygments_lexer": "ipython3",
   "version": "3.11.0"
  },
  "vscode": {
   "interpreter": {
    "hash": "7b7510469ae1ec5dd10f75fdd90389bb198a340a73d28dade5600db03c07fab4"
   }
  }
 },
 "nbformat": 4,
 "nbformat_minor": 0
}
