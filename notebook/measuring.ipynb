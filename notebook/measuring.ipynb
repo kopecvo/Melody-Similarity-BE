{
 "cells": [
  {
   "cell_type": "code",
   "execution_count": null,
   "metadata": {
    "collapsed": true
   },
   "outputs": [],
   "source": [
    "import django_initialiser\n",
    "from api.melody_utils.search import search_lcs, search_dtw\n",
    "import pandas as pd\n",
    "import matplotlib.pyplot as plt"
   ]
  },
  {
   "cell_type": "code",
   "execution_count": null,
   "outputs": [],
   "source": [
    "input_search = [76, 75, 76, 75, 76, 71, 74, 72, 69, 57, 76, 75, 76, 75, 76, 71, 74, 72, 69, 57, 76, 75, 76, 75, 76, 71, 74, 72, 69, 57, 76, 75, 76, 75, 76, 71, 74, 72, 69, 57]"
   ],
   "metadata": {
    "collapsed": false
   }
  },
  {
   "cell_type": "code",
   "execution_count": null,
   "outputs": [],
   "source": [
    "try:\n",
    "    f = open('./results.csv', 'a')\n",
    "    for i in range (22, 41):\n",
    "        cur_search = input_search[:i]\n",
    "        lcs = search_lcs(cur_search, return_time=True)\n",
    "        fast_dtw = search_dtw(cur_search, 0, generate_graphs=False, fast=True, return_time=True)\n",
    "        dtw = search_dtw(cur_search, 0, generate_graphs=False, fast=False, return_time=True)\n",
    "        f.write(f'{i},{lcs},{fast_dtw},{dtw}\\n')\n",
    "        print(f'Len {i} done')\n",
    "    f.close()\n",
    "\n",
    "except KeyboardInterrupt:\n",
    "    f.close()\n",
    "    pass"
   ],
   "metadata": {
    "collapsed": false
   }
  },
  {
   "cell_type": "code",
   "execution_count": null,
   "outputs": [],
   "source": [
    "df = pd.read_csv('results.csv')\n",
    "print(df)\n",
    "# plt.plot(pd['lcs_time'])\n",
    "plt.plot(df['input_len'], df['lcs_time'], label='LCS')\n",
    "plt.plot(df['input_len'], df['fast_dtw_time'], label='fastDTW')\n",
    "plt.plot(df['input_len'], df['dtw_time'], label='DTW')\n",
    "plt.ylabel(\"Search time (s)\")\n",
    "plt.xlabel(\"Query melody length\")\n",
    "plt.legend()\n",
    "plt.savefig('./query_len.png')\n",
    "plt.show()"
   ],
   "metadata": {
    "collapsed": false
   }
  },
  {
   "cell_type": "code",
   "execution_count": null,
   "outputs": [],
   "source": [
    "constant = 0\n",
    "\n",
    "for i in range(0, 38):\n",
    "    constant += df['dtw_time'][i] / df['lcs_time'][i]\n",
    "\n",
    "constant = constant / len(df['lcs_time'])\n",
    "print(constant)"
   ],
   "metadata": {
    "collapsed": false
   }
  },
  {
   "cell_type": "code",
   "execution_count": null,
   "outputs": [],
   "source": [],
   "metadata": {
    "collapsed": false
   }
  }
 ],
 "metadata": {
  "kernelspec": {
   "name": "django_extensions",
   "language": "python",
   "display_name": "Django Shell-Plus"
  },
  "language_info": {
   "codemirror_mode": {
    "name": "ipython",
    "version": 2
   },
   "file_extension": ".py",
   "mimetype": "text/x-python",
   "name": "python",
   "nbconvert_exporter": "python",
   "pygments_lexer": "ipython2",
   "version": "2.7.6"
  }
 },
 "nbformat": 4,
 "nbformat_minor": 0
}
