{
 "cells": [
  {
   "cell_type": "code",
   "execution_count": null,
   "metadata": {
    "collapsed": true
   },
   "outputs": [],
   "source": [
    "import django_initialiser\n",
    "import time\n",
    "import math\n",
    "from api.models import Song\n",
    "import numpy as np\n",
    "from fastdtw import fastdtw\n",
    "import matplotlib.pyplot as plt"
   ]
  },
  {
   "cell_type": "code",
   "execution_count": null,
   "outputs": [],
   "source": [
    "def dtw(s, t):\n",
    "    n, m = len(s), len(t)\n",
    "    dtw_matrix = np.zeros((n+1, m+1))\n",
    "\n",
    "    for i in range(n+1):\n",
    "        for j in range(m+1):\n",
    "            dtw_matrix[i, j] = np.inf\n",
    "    dtw_matrix[0, 0] = 0\n",
    "\n",
    "    for i in range(1, n+1):\n",
    "        for j in range(1, m+1):\n",
    "            cost = abs(s[i-1] - t[j-1])\n",
    "            dtw_matrix[i, j] = cost + np.min([dtw_matrix[i-1, j],       # deletion\n",
    "                                              dtw_matrix[i, j-1],       # insertion\n",
    "                                              dtw_matrix[i-1, j-1]])    # match\n",
    "    return dtw_matrix[n, m]"
   ],
   "metadata": {
    "collapsed": false
   }
  },
  {
   "cell_type": "code",
   "execution_count": null,
   "outputs": [],
   "source": [
    "def dtw_mat(s, t):\n",
    "    n, m = len(s), len(t)\n",
    "    dtw_matrix = np.zeros((n+1, m+1))\n",
    "\n",
    "    for i in range(n+1):\n",
    "        for j in range(m+1):\n",
    "            dtw_matrix[i, j] = np.inf\n",
    "    dtw_matrix[0, 0] = 0\n",
    "\n",
    "    for i in range(1, n+1):\n",
    "        for j in range(1, m+1):\n",
    "            cost = abs(s[i-1] - t[j-1])\n",
    "            dtw_matrix[i, j] = cost + np.min([dtw_matrix[i-1, j],       # deletion\n",
    "                                              dtw_matrix[i, j-1],       # insertion\n",
    "                                              dtw_matrix[i-1, j-1]])    # match\n",
    "    return dtw_matrix"
   ],
   "metadata": {
    "collapsed": false
   }
  },
  {
   "cell_type": "code",
   "execution_count": null,
   "outputs": [],
   "source": [
    "# Break songs into segments of same length as query\n",
    "def segmented_lookup(query):\n",
    "    t = time.process_time()\n",
    "    # Retrieve all songs from db\n",
    "    songs = Song.objects.all()\n",
    "\n",
    "    results = []\n",
    "    query_len = len(query)\n",
    "\n",
    "    for song in songs:\n",
    "        song_notes = list(map(int, song.note_sequence.split(',')))\n",
    "        song_len = len(song_notes)\n",
    "\n",
    "        min_distance = np.inf\n",
    "        min_first_index = 0\n",
    "        min_last_index = 0\n",
    "        min_path = []\n",
    "\n",
    "        # Get segments\n",
    "        for i in range(math.ceil(song_len / query_len)):\n",
    "            first_note_index = i * query_len\n",
    "            last_note_index = (i + 1) * query_len\n",
    "\n",
    "            segment = song_notes[first_note_index:last_note_index]\n",
    "\n",
    "            # Last note index can be out of range but array slicing is safe against that\n",
    "            distance, path = fastdtw(segment, query)\n",
    "            if distance < min_distance:\n",
    "                min_distance = distance\n",
    "                min_first_index = first_note_index\n",
    "                min_last_index = last_note_index\n",
    "                min_path = path\n",
    "\n",
    "        results.append((min_distance, song, [min_first_index, min_last_index], min_path))\n",
    "\n",
    "    # Sort in descending order by the longest subsequence length\n",
    "    results.sort(key=lambda tup: tup[0])\n",
    "    t = time.process_time() - t\n",
    "    print(f'Done in {t} seconds')\n",
    "    return results\n"
   ],
   "metadata": {
    "collapsed": false
   }
  },
  {
   "cell_type": "code",
   "execution_count": null,
   "outputs": [],
   "source": [
    "elise = Song.objects.filter(\n",
    "    title__contains='elise'\n",
    ")\n",
    "input_search = [76, 75, 76, 75, 76, 71, 74, 72, 69, 69, 57]\n",
    "input_search2 = [86, 79, 75, 74, 72, 86, 72, 23]\n",
    "elise_notes = list(map(int, elise[0].note_sequence.split(',')))"
   ],
   "metadata": {
    "collapsed": false
   }
  },
  {
   "cell_type": "code",
   "execution_count": null,
   "outputs": [],
   "source": [
    "res = segmented_lookup(input_search)\n",
    "for i in range(0, 3):\n",
    "    print(res[i][0], res[i][1].title, f'at [{res[i][2][0]}, {res[i][2][1]}]')"
   ],
   "metadata": {
    "collapsed": false
   }
  },
  {
   "cell_type": "code",
   "execution_count": null,
   "outputs": [],
   "source": [
    "# Get second result's song notes again\n",
    "inspected_res = 0\n",
    "song_notes = list(map(int, res[inspected_res][1].note_sequence.split(',')))\n",
    "segment = song_notes[res[inspected_res][2][0]:res[inspected_res][2][1]]\n",
    "\n",
    "print(res[inspected_res][3])\n",
    "\n",
    "for mapping in res[inspected_res][3]:\n",
    "    x1 = mapping[0]\n",
    "    y1 = input_search[mapping[0]]\n",
    "    x2 = mapping[1]\n",
    "    y2 = segment[mapping[1]]\n",
    "    if mapping[0] % 2:\n",
    "        color = 'lime'\n",
    "    else:\n",
    "        color = 'darkgreen'\n",
    "\n",
    "    # print([x1, y1], [x2, y2])\n",
    "    plt.plot([x1, x2], [y1, y2], color=color, linestyle='-', linewidth=1)\n",
    "plt.plot(input_search, label='Search', linewidth=2)\n",
    "plt.plot(segment, label='Song', linewidth=2)\n",
    "plt.locator_params(axis=\"both\", integer=True, tight=True)\n",
    "plt.legend()\n",
    "\n",
    "plt.show"
   ],
   "metadata": {
    "collapsed": false
   }
  },
  {
   "cell_type": "code",
   "execution_count": null,
   "outputs": [],
   "source": [],
   "metadata": {
    "collapsed": false
   }
  }
 ],
 "metadata": {
  "kernelspec": {
   "name": "django_extensions",
   "language": "python",
   "display_name": "Django Shell-Plus"
  },
  "language_info": {
   "codemirror_mode": {
    "name": "ipython",
    "version": 2
   },
   "file_extension": ".py",
   "mimetype": "text/x-python",
   "name": "python",
   "nbconvert_exporter": "python",
   "pygments_lexer": "ipython2",
   "version": "2.7.6"
  }
 },
 "nbformat": 4,
 "nbformat_minor": 0
}
