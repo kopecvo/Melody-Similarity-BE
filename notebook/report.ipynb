{
 "cells": [
  {
   "cell_type": "code",
   "execution_count": null,
   "metadata": {
    "collapsed": true
   },
   "outputs": [],
   "source": [
    "import numpy as np\n",
    "from mido import MidiFile"
   ]
  },
  {
   "cell_type": "code",
   "execution_count": null,
   "metadata": {
    "collapsed": false
   },
   "outputs": [],
   "source": [
    "# Load midi file\n",
    "midi = MidiFile(\"../midi/piano_midi_de/bach/bach_846.mid\")\n",
    "\n",
    "# Print all messages in track 2\n",
    "for message in midi.tracks[1]:\n",
    "    print(message)"
   ]
  }
 ],
 "metadata": {
  "kernelspec": {
   "display_name": "Django Shell-Plus",
   "language": "python",
   "name": "django_extensions"
  },
  "language_info": {
   "codemirror_mode": {
    "name": "ipython",
    "version": 3
   },
   "file_extension": ".py",
   "mimetype": "text/x-python",
   "name": "python",
   "nbconvert_exporter": "python",
   "pygments_lexer": "ipython3",
   "version": "3.11.0"
  },
  "vscode": {
   "interpreter": {
    "hash": "7b7510469ae1ec5dd10f75fdd90389bb198a340a73d28dade5600db03c07fab4"
   }
  }
 },
 "nbformat": 4,
 "nbformat_minor": 0
}
