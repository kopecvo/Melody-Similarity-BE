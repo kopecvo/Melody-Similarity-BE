{
 "cells": [
  {
   "cell_type": "code",
   "execution_count": null,
   "id": "9638ce31",
   "metadata": {},
   "outputs": [],
   "source": [
    "import numpy as np\n",
    "import pandas as pd\n",
    "from mido import MidiFile\n",
    "from collections import namedtuple"
   ]
  },
  {
   "cell_type": "code",
   "execution_count": null,
   "metadata": {
    "collapsed": false
   },
   "outputs": [],
   "source": [
    "midi_dir = \"../midi/\"\n",
    "TimedNote = namedtuple('TimedNote', ['note', 'start_tick', 'end_tick'])\n",
    "CustomMessage = namedtuple('CustomMessage', ['start_tick', 'note', 'on'])"
   ]
  },
  {
   "cell_type": "code",
   "execution_count": null,
   "metadata": {
    "collapsed": false
   },
   "outputs": [],
   "source": [
    "\"\"\"\n",
    "Structure for keeping track of all notes playing at the same time\n",
    "\"\"\"\n",
    "class ActiveNotes:\n",
    "    def __init__(self):\n",
    "        self.cur_tick = 0\n",
    "        self.currently_playing = np.zeros([128], dtype='bool')\n",
    "        # Array to prevent adding the same highest note twice\n",
    "        # (f.e. some note gets turned off and some note which has been added to the melody already\n",
    "        # might still be playing and gets evaluated as highest note again)\n",
    "        self.already_in_melody = np.zeros([128], dtype='bool')\n",
    "\n",
    "    def note_on(self, note):\n",
    "        self.currently_playing[note] = True\n",
    "\n",
    "    def note_off(self, note):\n",
    "        self.currently_playing[note] = False\n",
    "        self.already_in_melody[note] = False\n",
    "\n",
    "    \"\"\"\n",
    "    Return highest note and ticks when it started/stopped\n",
    "    delta_tick: time since latest MIDI Message\n",
    "    \"\"\"\n",
    "    def get_highest_note(self, delta_tick):\n",
    "        previous_tick = self.cur_tick\n",
    "        self.cur_tick = self.cur_tick + delta_tick\n",
    "        for i in range(127, -1, -1):\n",
    "            # Found the highest note that's currently playing\n",
    "            if self.currently_playing[i]:\n",
    "                # It hasn't been added to melody yet; add it\n",
    "                if not self.already_in_melody[i]:\n",
    "                    self.already_in_melody[i] = True\n",
    "                    return TimedNote(i, previous_tick, self.cur_tick)\n",
    "\n",
    "                # Has been added to melody; stop the search for highest note\n",
    "                else:\n",
    "                    break\n",
    "\n",
    "        return TimedNote(-1, previous_tick, self.cur_tick)\n"
   ]
  },
  {
   "cell_type": "code",
   "execution_count": null,
   "metadata": {
    "collapsed": false
   },
   "outputs": [],
   "source": [
    "def get_highest_melody(file, tracks_to_merge, tick_ignore):\n",
    "    mid = MidiFile(file)\n",
    "    highest_melodies = []\n",
    "    merged_melody = []\n",
    "\n",
    "    # Process all tracks separately first\n",
    "    for track_no in tracks_to_merge:\n",
    "        an = ActiveNotes()\n",
    "        highest_melody = []\n",
    "        additive_tick = 0\n",
    "        for msg in mid.tracks[track_no]:\n",
    "            if msg.type in ['note_on', 'note_off']:\n",
    "                # Not instant; some time has passed => evaluate previous highest note\n",
    "                tick = msg.time + additive_tick\n",
    "                additive_tick = 0\n",
    "                if tick != 0:\n",
    "                    res = an.get_highest_note(tick)\n",
    "                    # Filter out cases when nothing is playing\n",
    "                    if res.note != -1:\n",
    "                        # highest_melody.append(res)\n",
    "                        # Add turn on/turn off messages\n",
    "                        highest_melody.append(CustomMessage(res.start_tick, res.note, 1))\n",
    "                        highest_melody.append(CustomMessage(res.end_tick, res.note, 0))\n",
    "\n",
    "                if msg.velocity != 0 and msg.type == 'note_on':\n",
    "                    an.note_on(msg.note)\n",
    "                else:\n",
    "                    an.note_off(msg.note)\n",
    "\n",
    "            # Some messages just change time for no FUCKING REASON\n",
    "            else:\n",
    "                additive_tick = additive_tick + msg.time\n",
    "\n",
    "            # if msg.type in ['set_tempo', 'control_change', 'time_signature']:\n",
    "            #    additive_tick = additive_tick + msg.time\n",
    "\n",
    "        highest_melodies.append(highest_melody)\n",
    "\n",
    "    # Merge all highest melody messages into one list\n",
    "    mega_list = []\n",
    "    for i in highest_melodies:\n",
    "        mega_list = mega_list + i\n",
    "\n",
    "    # Sort all messages by starting tick\n",
    "    mega_list.sort(key=lambda custom_msg: custom_msg.start_tick)\n",
    "    an = ActiveNotes()\n",
    "    cur_tick = mega_list[0][0]\n",
    "\n",
    "    for custom_msg in mega_list:\n",
    "        # Treat a very small time difference between messages as if the events happened simultaneously\n",
    "        # So that the higher note gets judged correctly\n",
    "        if abs(custom_msg.start_tick - cur_tick) > tick_ignore:\n",
    "            res = an.get_highest_note(0)\n",
    "            if res.note != -1:\n",
    "                merged_melody.append(res.note)\n",
    "\n",
    "        if custom_msg.on:\n",
    "            an.note_on(custom_msg.note)\n",
    "\n",
    "        else:\n",
    "            an.note_off(custom_msg.note)\n",
    "\n",
    "        cur_tick = custom_msg.start_tick\n",
    "\n",
    "\n",
    "    return merged_melody, mega_list\n"
   ]
  },
  {
   "cell_type": "code",
   "execution_count": null,
   "metadata": {
    "collapsed": false
   },
   "outputs": [],
   "source": [
    "res = get_highest_melody(\"../backend/midi/bach_846.mid\", [1, 2], 10)\n",
    "print(res[0])"
   ]
  },
  {
   "cell_type": "code",
   "execution_count": null,
   "metadata": {
    "collapsed": false
   },
   "outputs": [],
   "source": [
    "# Load a midi file\n",
    "# \"../backend/midi/bach_846.mid\"\n",
    "midd = MidiFile(\"../upload/untitled.mid\")\n",
    "# Print notes in midi track\n",
    "for track in midd.tracks:\n",
    "    print(\"trck: \" + track.name)\n",
    "\n",
    "print(midd.type)\n",
    "extracted_melody = get_highest_melody(\"../upload/untitled.mid\", [2], 10)\n",
    "print(extracted_melody[0])"
   ]
  },
  {
   "cell_type": "code",
   "execution_count": null,
   "metadata": {
    "collapsed": false
   },
   "outputs": [],
   "source": [
    "for msgg in midd.tracks[2]:\n",
    "    # Not instant; some time has passed => evaluate previous highest note\n",
    "    print(msgg)"
   ]
  },
  {
   "cell_type": "code",
   "execution_count": null,
   "metadata": {
    "collapsed": false
   },
   "outputs": [],
   "source": [
    "def get_metadata(file):\n",
    "    # Load a midi file\n",
    "    mid = MidiFile(file)\n",
    "    track_name = \"\"\n",
    "    author = \"\"\n",
    "    # First track contains data\n",
    "    for msg in mid.tracks[0]:\n",
    "        # Not instant; some time has passed => evaluate previous highest note\n",
    "        if msg.type == \"track_name\":\n",
    "            if track_name == \"\":\n",
    "                track_name = msg.name\n",
    "            else:\n",
    "                track_name = track_name + \": \" + msg.name\n",
    "\n",
    "        # First text message contains the author\n",
    "        if msg.type == \"text\":\n",
    "            author = msg.text\n",
    "            break\n",
    "\n",
    "    # Second and third tracks contain right/left hand\n",
    "    melody = get_highest_melody(file, [1, 2], 5)[0]\n",
    "    return {\n",
    "        \"track_name\": track_name,\n",
    "        \"author\": author,\n",
    "        \"melody\": melody\n",
    "    }"
   ]
  },
  {
   "cell_type": "code",
   "execution_count": null,
   "metadata": {
    "collapsed": false
   },
   "outputs": [],
   "source": [
    "res = get_metadata(\"../backend/midi/chpn_op53.mid\")\n",
    "print(res)"
   ]
  },
  {
   "cell_type": "code",
   "execution_count": null,
   "metadata": {
    "collapsed": false
   },
   "outputs": [],
   "source": []
  }
 ],
 "metadata": {
  "kernelspec": {
   "display_name": "Django Shell-Plus",
   "language": "python",
   "name": "django_extensions"
  },
  "language_info": {
   "codemirror_mode": {
    "name": "ipython",
    "version": 3
   },
   "file_extension": ".py",
   "mimetype": "text/x-python",
   "name": "python",
   "nbconvert_exporter": "python",
   "pygments_lexer": "ipython3",
   "version": "3.11.0"
  },
  "vscode": {
   "interpreter": {
    "hash": "7b7510469ae1ec5dd10f75fdd90389bb198a340a73d28dade5600db03c07fab4"
   }
  }
 },
 "nbformat": 4,
 "nbformat_minor": 5
}
